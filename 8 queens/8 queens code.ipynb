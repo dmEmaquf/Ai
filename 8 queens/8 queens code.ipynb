{
 "cells": [
  {
   "cell_type": "code",
   "execution_count": 11,
   "id": "abb3fc9b-c4ee-42e0-8d9a-d73855f283e1",
   "metadata": {},
   "outputs": [
    {
     "name": "stdout",
     "output_type": "stream",
     "text": [
      "최적 해: [5, 2, 4, 7, 0, 3, 1, 6]\n",
      "적합도: 28\n"
     ]
    }
   ],
   "source": [
    "import random\n",
    "\n",
    "N = 8  # 체스판 크기\n",
    "\n",
    "class Chromosome:\n",
    "    def __init__(self, genes=None):\n",
    "        if genes is None:\n",
    "            self.genes = random.sample(range(N), N)\n",
    "        else:\n",
    "            self.genes = genes\n",
    "        self.fitness = self.cal_fitness()\n",
    "\n",
    "    def cal_fitness(self):\n",
    "        conflicts = 0\n",
    "        for i in range(N):\n",
    "            for j in range(i + 1, N):\n",
    "                if abs(self.genes[i] - self.genes[j]) == abs(i - j):\n",
    "                    conflicts += 1\n",
    "        return 28 - conflicts\n",
    "\n",
    "    def mutate(self, mutation_rate=0.1):\n",
    "        if random.random() < mutation_rate:\n",
    "            idx1, idx2 = random.sample(range(N), 2)\n",
    "            self.genes[idx1], self.genes[idx2] = self.genes[idx2], self.genes[idx1]\n",
    "            self.fitness = self.cal_fitness()\n",
    "\n",
    "\n",
    "def select(population):\n",
    "    return random.choice(population[:10])  # 상위 10개 중에서 랜덤 선택\n",
    "\n",
    "\n",
    "def crossover(parent1, parent2):\n",
    "    point = random.randint(1, N - 2)\n",
    "    child_genes = parent1.genes[:point] + [gene for gene in parent2.genes if gene not in parent1.genes[:point]]\n",
    "    return Chromosome(child_genes)\n",
    "\n",
    "\n",
    "def genetic_algorithm(pop_size=100, generations=1000):\n",
    "    population = [Chromosome() for _ in range(pop_size)]\n",
    "\n",
    "    for generation in range(generations):\n",
    "        population.sort(key=lambda chromo: chromo.fitness, reverse=True)\n",
    "\n",
    "        if population[0].fitness == 28:\n",
    "            break\n",
    "\n",
    "        new_population = population[:10]  # elitism\n",
    "\n",
    "        while len(new_population) < pop_size:\n",
    "            parent1, parent2 = random.sample(population[:10], 2)\n",
    "            child = crossover(parent1, parent2)\n",
    "            child.mutate()\n",
    "            new_population.append(child)\n",
    "\n",
    "        population = new_population\n",
    "\n",
    "    best_solution = population[0]\n",
    "    print(\"최적 해:\", best_solution.genes)\n",
    "    print(\"적합도:\", best_solution.fitness)\n",
    "    return best_solution\n",
    "\n",
    "\n",
    "if __name__ == \"__main__\":\n",
    "    genetic_algorithm()\n"
   ]
  },
  {
   "cell_type": "code",
   "execution_count": null,
   "id": "fc41b4a8-359a-4061-a37f-05c8a5cf8b5e",
   "metadata": {},
   "outputs": [],
   "source": []
  }
 ],
 "metadata": {
  "kernelspec": {
   "display_name": "first",
   "language": "python",
   "name": "first"
  },
  "language_info": {
   "codemirror_mode": {
    "name": "ipython",
    "version": 3
   },
   "file_extension": ".py",
   "mimetype": "text/x-python",
   "name": "python",
   "nbconvert_exporter": "python",
   "pygments_lexer": "ipython3",
   "version": "3.12.4"
  }
 },
 "nbformat": 4,
 "nbformat_minor": 5
}
